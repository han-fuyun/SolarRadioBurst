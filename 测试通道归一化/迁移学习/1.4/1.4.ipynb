{
 "cells": [
  {
   "cell_type": "code",
   "execution_count": null,
   "outputs": [],
   "source": [
    "import tensorflow as tf\n",
    "\n",
    "\n",
    "def am_softmax_loss(y_true, y_pred):\n",
    "    scale = 30.0\n",
    "    margin = 0.35\n",
    "\n",
    "    label = tf.reshape(tf.argmax(y_true, axis=-1), shape=(-1, 1))\n",
    "    label = tf.cast(label, dtype=tf.int32)  # y\n",
    "    batch_range = tf.reshape(tf.range(tf.shape(y_pred)[0]), shape=(-1, 1))  # 0~batchsize-1\n",
    "    indices_of_groundtruth = tf.concat([batch_range, tf.reshape(label, shape=(-1, 1))],\n",
    "                                       axis=1)  # 2columns vector, 0~batchsize-1 and label\n",
    "    groundtruth_score = tf.gather_nd(y_pred, indices_of_groundtruth)  # score of groundtruth\n",
    "\n",
    "    m = tf.constant(margin, name='m')\n",
    "    s = tf.constant(scale, name='s')\n",
    "\n",
    "    added_margin = tf.cast(tf.greater(groundtruth_score, m),\n",
    "                           dtype=tf.float32) * m  # if groundtruth_score>m, groundtruth_score-m\n",
    "    added_margin = tf.reshape(added_margin, shape=(-1, 1))\n",
    "    added_embeddingFeature = tf.subtract(y_pred, y_true * added_margin) * s  # s(cos_theta_yi-m), s(cos_theta_j)\n",
    "\n",
    "    cross_ent = tf.nn.softmax_cross_entropy_with_logits(labels=y_true, logits=added_embeddingFeature)\n",
    "    loss = tf.reduce_mean(cross_ent)\n",
    "    return loss"
   ],
   "metadata": {
    "collapsed": false,
    "pycharm": {
     "name": "#%%\n"
    }
   }
  },
  {
   "cell_type": "code",
   "execution_count": null,
   "metadata": {
    "collapsed": true
   },
   "outputs": [],
   "source": [
    "from keras import models\n",
    "from keras.models import load_model\n",
    "# 这里为模型的地址\n",
    "best_model = load_model(r'',custom_objects={'am_softmax_loss':am_softmax_loss})\n",
    "# best_model.summary()\n",
    "\n",
    "out_put = layer_outputs = [layer.output for layer in best_model.layers[5:6]]\n",
    "activation_model = models.Model(inputs=best_model.input, outputs=layer_outputs)\n"
   ]
  },
  {
   "cell_type": "code",
   "execution_count": null,
   "outputs": [],
   "source": [
    "import numpy as np\n",
    "from keras.preprocessing.image import ImageDataGenerator\n",
    "train_dir = r''\n",
    "validation_dir = r''\n",
    "datagen = ImageDataGenerator(rescale=1./255)\n",
    "batch_size = 20\n",
    "def extract_features(directory, sample_count):\n",
    "    features = np.zeros(shape=(sample_count, 48, 10, 128))\n",
    "    labels = np.zeros(shape=sample_count)\n",
    "    generator = datagen.flow_from_directory(\n",
    "                                            directory,\n",
    "                                            target_size=(400, 100),\n",
    "                                            batch_size=batch_size,\n",
    "                                            class_mode='categorical')\n",
    "    i = 0\n",
    "    for inputs_batch, labels_batch in generator:\n",
    "        features_batch = activation_model.predict(inputs_batch)\n",
    "        features[i * batch_size : (i + 1) * batch_size] = features_batch\n",
    "        labels[i * batch_size : (i + 1) * batch_size] = labels_batch\n",
    "        i += 1\n",
    "        if i * batch_size >= sample_count:\n",
    "            break\n",
    "    return features, labels\n",
    "\n",
    "# 这里下面要填训练集的验证集图片的总数\n",
    "train_features, train_labels = extract_features(train_dir, 2000)\n",
    "validation_features, validation_labels = extract_features(validation_dir, 1000)\n",
    "\n",
    "train_features = np.reshape(train_features, (2000, 48*10*128))\n",
    "validation_features = np.reshape(validation_features, (1000, 48*10*128))"
   ],
   "metadata": {
    "collapsed": false,
    "pycharm": {
     "name": "#%%\n"
    }
   }
  },
  {
   "cell_type": "code",
   "execution_count": null,
   "outputs": [],
   "source": [
    "from keras import models\n",
    "from keras import layers\n",
    "from keras import optimizers\n",
    "model = models.Sequential()\n",
    "model.add(layers.Dense(512, activation='relu', input_dim=48 * 10 * 128))\n",
    "model.add(layers.Dropout(0.5))\n",
    "model.add(layers.Dense(1, activation='softmax'))\n",
    "model.compile(optimizer=optimizers.RMSprop(lr=2e-5),\n",
    "loss='categorical_crossentropy',\n",
    "metrics=['acc'])\n",
    "history = model.fit(train_features, train_labels,\n",
    "                    epochs=30,\n",
    "                    batch_size=20,\n",
    "                    validation_data=(validation_features, validation_labels)\n",
    "                    )"
   ],
   "metadata": {
    "collapsed": false,
    "pycharm": {
     "name": "#%%\n"
    }
   }
  },
  {
   "cell_type": "code",
   "execution_count": null,
   "outputs": [],
   "source": [
    "import matplotlib.pyplot as plt\n",
    "acc = history.history['acc']\n",
    "val_acc = history.history['val_acc']\n",
    "loss = history.history['loss']\n",
    "val_loss = history.history['val_loss']\n",
    "epochs = range(1, len(acc) + 1)\n",
    "plt.plot(epochs, acc, 'bo', label='Training acc')\n",
    "plt.plot(epochs, val_acc, 'b', label='Validation acc')\n",
    "plt.title('Training and validation accuracy')\n",
    "plt.legend()\n",
    "plt.figure()\n",
    "plt.plot(epochs, loss, 'bo', label='Training loss')\n",
    "plt.plot(epochs, val_loss, 'b', label='Validation loss')\n",
    "plt.title('Training and validation loss')\n",
    "plt.legend()\n",
    "plt.show()\n"
   ],
   "metadata": {
    "collapsed": false,
    "pycharm": {
     "name": "#%%\n"
    }
   }
  }
 ],
 "metadata": {
  "kernelspec": {
   "display_name": "Python 3",
   "language": "python",
   "name": "python3"
  },
  "language_info": {
   "codemirror_mode": {
    "name": "ipython",
    "version": 2
   },
   "file_extension": ".py",
   "mimetype": "text/x-python",
   "name": "python",
   "nbconvert_exporter": "python",
   "pygments_lexer": "ipython2",
   "version": "2.7.6"
  }
 },
 "nbformat": 4,
 "nbformat_minor": 0
}